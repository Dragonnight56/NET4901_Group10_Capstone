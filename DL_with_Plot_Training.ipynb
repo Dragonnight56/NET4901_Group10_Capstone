{
  "cells": [
    {
      "cell_type": "code",
      "execution_count": 126,
      "metadata": {
        "id": "UBlkOXbZni9y"
      },
      "outputs": [
        {
          "name": "stdout",
          "output_type": "stream",
          "text": [
            "Requirement already satisfied: scikit-learn in c:\\users\\minso\\appdata\\local\\programs\\python\\python312\\lib\\site-packages (1.4.1.post1)\n",
            "Requirement already satisfied: numpy<2.0,>=1.19.5 in c:\\users\\minso\\appdata\\local\\programs\\python\\python312\\lib\\site-packages (from scikit-learn) (1.26.4)\n",
            "Requirement already satisfied: scipy>=1.6.0 in c:\\users\\minso\\appdata\\local\\programs\\python\\python312\\lib\\site-packages (from scikit-learn) (1.13.0)\n",
            "Requirement already satisfied: joblib>=1.2.0 in c:\\users\\minso\\appdata\\local\\programs\\python\\python312\\lib\\site-packages (from scikit-learn) (1.3.2)\n",
            "Requirement already satisfied: threadpoolctl>=2.0.0 in c:\\users\\minso\\appdata\\local\\programs\\python\\python312\\lib\\site-packages (from scikit-learn) (3.4.0)\n",
            "Requirement already satisfied: tensorflow in c:\\users\\minso\\appdata\\local\\programs\\python\\python312\\lib\\site-packages (2.16.1)\n",
            "Requirement already satisfied: tensorflow-intel==2.16.1 in c:\\users\\minso\\appdata\\local\\programs\\python\\python312\\lib\\site-packages (from tensorflow) (2.16.1)\n",
            "Requirement already satisfied: absl-py>=1.0.0 in c:\\users\\minso\\appdata\\local\\programs\\python\\python312\\lib\\site-packages (from tensorflow-intel==2.16.1->tensorflow) (2.1.0)\n",
            "Requirement already satisfied: astunparse>=1.6.0 in c:\\users\\minso\\appdata\\local\\programs\\python\\python312\\lib\\site-packages (from tensorflow-intel==2.16.1->tensorflow) (1.6.3)\n",
            "Requirement already satisfied: flatbuffers>=23.5.26 in c:\\users\\minso\\appdata\\local\\programs\\python\\python312\\lib\\site-packages (from tensorflow-intel==2.16.1->tensorflow) (24.3.25)\n",
            "Requirement already satisfied: gast!=0.5.0,!=0.5.1,!=0.5.2,>=0.2.1 in c:\\users\\minso\\appdata\\local\\programs\\python\\python312\\lib\\site-packages (from tensorflow-intel==2.16.1->tensorflow) (0.5.4)\n",
            "Requirement already satisfied: google-pasta>=0.1.1 in c:\\users\\minso\\appdata\\local\\programs\\python\\python312\\lib\\site-packages (from tensorflow-intel==2.16.1->tensorflow) (0.2.0)\n",
            "Requirement already satisfied: h5py>=3.10.0 in c:\\users\\minso\\appdata\\local\\programs\\python\\python312\\lib\\site-packages (from tensorflow-intel==2.16.1->tensorflow) (3.10.0)\n",
            "Requirement already satisfied: libclang>=13.0.0 in c:\\users\\minso\\appdata\\local\\programs\\python\\python312\\lib\\site-packages (from tensorflow-intel==2.16.1->tensorflow) (18.1.1)\n",
            "Requirement already satisfied: ml-dtypes~=0.3.1 in c:\\users\\minso\\appdata\\local\\programs\\python\\python312\\lib\\site-packages (from tensorflow-intel==2.16.1->tensorflow) (0.3.2)\n",
            "Requirement already satisfied: opt-einsum>=2.3.2 in c:\\users\\minso\\appdata\\local\\programs\\python\\python312\\lib\\site-packages (from tensorflow-intel==2.16.1->tensorflow) (3.3.0)\n",
            "Requirement already satisfied: packaging in c:\\users\\minso\\appdata\\roaming\\python\\python312\\site-packages (from tensorflow-intel==2.16.1->tensorflow) (24.0)\n",
            "Requirement already satisfied: protobuf!=4.21.0,!=4.21.1,!=4.21.2,!=4.21.3,!=4.21.4,!=4.21.5,<5.0.0dev,>=3.20.3 in c:\\users\\minso\\appdata\\local\\programs\\python\\python312\\lib\\site-packages (from tensorflow-intel==2.16.1->tensorflow) (4.25.3)\n",
            "Requirement already satisfied: requests<3,>=2.21.0 in c:\\users\\minso\\appdata\\local\\programs\\python\\python312\\lib\\site-packages (from tensorflow-intel==2.16.1->tensorflow) (2.31.0)\n",
            "Requirement already satisfied: setuptools in c:\\users\\minso\\appdata\\local\\programs\\python\\python312\\lib\\site-packages (from tensorflow-intel==2.16.1->tensorflow) (68.2.2)\n",
            "Requirement already satisfied: six>=1.12.0 in c:\\users\\minso\\appdata\\roaming\\python\\python312\\site-packages (from tensorflow-intel==2.16.1->tensorflow) (1.16.0)\n",
            "Requirement already satisfied: termcolor>=1.1.0 in c:\\users\\minso\\appdata\\local\\programs\\python\\python312\\lib\\site-packages (from tensorflow-intel==2.16.1->tensorflow) (2.4.0)\n",
            "Requirement already satisfied: typing-extensions>=3.6.6 in c:\\users\\minso\\appdata\\local\\programs\\python\\python312\\lib\\site-packages (from tensorflow-intel==2.16.1->tensorflow) (4.11.0)\n",
            "Requirement already satisfied: wrapt>=1.11.0 in c:\\users\\minso\\appdata\\local\\programs\\python\\python312\\lib\\site-packages (from tensorflow-intel==2.16.1->tensorflow) (1.16.0)\n",
            "Requirement already satisfied: grpcio<2.0,>=1.24.3 in c:\\users\\minso\\appdata\\local\\programs\\python\\python312\\lib\\site-packages (from tensorflow-intel==2.16.1->tensorflow) (1.62.1)\n",
            "Requirement already satisfied: tensorboard<2.17,>=2.16 in c:\\users\\minso\\appdata\\local\\programs\\python\\python312\\lib\\site-packages (from tensorflow-intel==2.16.1->tensorflow) (2.16.2)\n",
            "Requirement already satisfied: keras>=3.0.0 in c:\\users\\minso\\appdata\\local\\programs\\python\\python312\\lib\\site-packages (from tensorflow-intel==2.16.1->tensorflow) (3.1.1)\n",
            "Requirement already satisfied: numpy<2.0.0,>=1.26.0 in c:\\users\\minso\\appdata\\local\\programs\\python\\python312\\lib\\site-packages (from tensorflow-intel==2.16.1->tensorflow) (1.26.4)\n",
            "Requirement already satisfied: wheel<1.0,>=0.23.0 in c:\\users\\minso\\appdata\\local\\programs\\python\\python312\\lib\\site-packages (from astunparse>=1.6.0->tensorflow-intel==2.16.1->tensorflow) (0.43.0)\n",
            "Requirement already satisfied: rich in c:\\users\\minso\\appdata\\local\\programs\\python\\python312\\lib\\site-packages (from keras>=3.0.0->tensorflow-intel==2.16.1->tensorflow) (13.7.1)\n",
            "Requirement already satisfied: namex in c:\\users\\minso\\appdata\\local\\programs\\python\\python312\\lib\\site-packages (from keras>=3.0.0->tensorflow-intel==2.16.1->tensorflow) (0.0.7)\n",
            "Requirement already satisfied: optree in c:\\users\\minso\\appdata\\local\\programs\\python\\python312\\lib\\site-packages (from keras>=3.0.0->tensorflow-intel==2.16.1->tensorflow) (0.11.0)\n",
            "Requirement already satisfied: charset-normalizer<4,>=2 in c:\\users\\minso\\appdata\\local\\programs\\python\\python312\\lib\\site-packages (from requests<3,>=2.21.0->tensorflow-intel==2.16.1->tensorflow) (3.3.2)\n",
            "Requirement already satisfied: idna<4,>=2.5 in c:\\users\\minso\\appdata\\local\\programs\\python\\python312\\lib\\site-packages (from requests<3,>=2.21.0->tensorflow-intel==2.16.1->tensorflow) (3.6)\n",
            "Requirement already satisfied: urllib3<3,>=1.21.1 in c:\\users\\minso\\appdata\\local\\programs\\python\\python312\\lib\\site-packages (from requests<3,>=2.21.0->tensorflow-intel==2.16.1->tensorflow) (2.2.1)\n",
            "Requirement already satisfied: certifi>=2017.4.17 in c:\\users\\minso\\appdata\\local\\programs\\python\\python312\\lib\\site-packages (from requests<3,>=2.21.0->tensorflow-intel==2.16.1->tensorflow) (2024.2.2)\n",
            "Requirement already satisfied: markdown>=2.6.8 in c:\\users\\minso\\appdata\\local\\programs\\python\\python312\\lib\\site-packages (from tensorboard<2.17,>=2.16->tensorflow-intel==2.16.1->tensorflow) (3.6)\n",
            "Requirement already satisfied: tensorboard-data-server<0.8.0,>=0.7.0 in c:\\users\\minso\\appdata\\local\\programs\\python\\python312\\lib\\site-packages (from tensorboard<2.17,>=2.16->tensorflow-intel==2.16.1->tensorflow) (0.7.2)\n",
            "Requirement already satisfied: werkzeug>=1.0.1 in c:\\users\\minso\\appdata\\local\\programs\\python\\python312\\lib\\site-packages (from tensorboard<2.17,>=2.16->tensorflow-intel==2.16.1->tensorflow) (3.0.1)\n",
            "Requirement already satisfied: MarkupSafe>=2.1.1 in c:\\users\\minso\\appdata\\local\\programs\\python\\python312\\lib\\site-packages (from werkzeug>=1.0.1->tensorboard<2.17,>=2.16->tensorflow-intel==2.16.1->tensorflow) (2.1.3)\n",
            "Requirement already satisfied: markdown-it-py>=2.2.0 in c:\\users\\minso\\appdata\\local\\programs\\python\\python312\\lib\\site-packages (from rich->keras>=3.0.0->tensorflow-intel==2.16.1->tensorflow) (3.0.0)\n",
            "Requirement already satisfied: pygments<3.0.0,>=2.13.0 in c:\\users\\minso\\appdata\\roaming\\python\\python312\\site-packages (from rich->keras>=3.0.0->tensorflow-intel==2.16.1->tensorflow) (2.17.2)\n",
            "Requirement already satisfied: mdurl~=0.1 in c:\\users\\minso\\appdata\\local\\programs\\python\\python312\\lib\\site-packages (from markdown-it-py>=2.2.0->rich->keras>=3.0.0->tensorflow-intel==2.16.1->tensorflow) (0.1.2)\n",
            "Requirement already satisfied: pandas in c:\\users\\minso\\appdata\\local\\programs\\python\\python312\\lib\\site-packages (2.2.1)\n",
            "Requirement already satisfied: numpy<2,>=1.26.0 in c:\\users\\minso\\appdata\\local\\programs\\python\\python312\\lib\\site-packages (from pandas) (1.26.4)\n",
            "Requirement already satisfied: python-dateutil>=2.8.2 in c:\\users\\minso\\appdata\\roaming\\python\\python312\\site-packages (from pandas) (2.9.0.post0)\n",
            "Requirement already satisfied: pytz>=2020.1 in c:\\users\\minso\\appdata\\local\\programs\\python\\python312\\lib\\site-packages (from pandas) (2024.1)\n",
            "Requirement already satisfied: tzdata>=2022.7 in c:\\users\\minso\\appdata\\local\\programs\\python\\python312\\lib\\site-packages (from pandas) (2024.1)\n",
            "Requirement already satisfied: six>=1.5 in c:\\users\\minso\\appdata\\roaming\\python\\python312\\site-packages (from python-dateutil>=2.8.2->pandas) (1.16.0)\n",
            "Requirement already satisfied: keras in c:\\users\\minso\\appdata\\local\\programs\\python\\python312\\lib\\site-packages (3.1.1)\n",
            "Requirement already satisfied: absl-py in c:\\users\\minso\\appdata\\local\\programs\\python\\python312\\lib\\site-packages (from keras) (2.1.0)\n",
            "Requirement already satisfied: numpy in c:\\users\\minso\\appdata\\local\\programs\\python\\python312\\lib\\site-packages (from keras) (1.26.4)\n",
            "Requirement already satisfied: rich in c:\\users\\minso\\appdata\\local\\programs\\python\\python312\\lib\\site-packages (from keras) (13.7.1)\n",
            "Requirement already satisfied: namex in c:\\users\\minso\\appdata\\local\\programs\\python\\python312\\lib\\site-packages (from keras) (0.0.7)\n",
            "Requirement already satisfied: h5py in c:\\users\\minso\\appdata\\local\\programs\\python\\python312\\lib\\site-packages (from keras) (3.10.0)\n",
            "Requirement already satisfied: optree in c:\\users\\minso\\appdata\\local\\programs\\python\\python312\\lib\\site-packages (from keras) (0.11.0)\n",
            "Requirement already satisfied: ml-dtypes in c:\\users\\minso\\appdata\\local\\programs\\python\\python312\\lib\\site-packages (from keras) (0.3.2)\n",
            "Requirement already satisfied: typing-extensions>=4.0.0 in c:\\users\\minso\\appdata\\local\\programs\\python\\python312\\lib\\site-packages (from optree->keras) (4.11.0)\n",
            "Requirement already satisfied: markdown-it-py>=2.2.0 in c:\\users\\minso\\appdata\\local\\programs\\python\\python312\\lib\\site-packages (from rich->keras) (3.0.0)\n",
            "Requirement already satisfied: pygments<3.0.0,>=2.13.0 in c:\\users\\minso\\appdata\\roaming\\python\\python312\\site-packages (from rich->keras) (2.17.2)\n",
            "Requirement already satisfied: mdurl~=0.1 in c:\\users\\minso\\appdata\\local\\programs\\python\\python312\\lib\\site-packages (from markdown-it-py>=2.2.0->rich->keras) (0.1.2)\n",
            "Requirement already satisfied: matplotlib in c:\\users\\minso\\appdata\\local\\programs\\python\\python312\\lib\\site-packages (3.8.4)\n",
            "Requirement already satisfied: contourpy>=1.0.1 in c:\\users\\minso\\appdata\\local\\programs\\python\\python312\\lib\\site-packages (from matplotlib) (1.2.1)\n",
            "Requirement already satisfied: cycler>=0.10 in c:\\users\\minso\\appdata\\local\\programs\\python\\python312\\lib\\site-packages (from matplotlib) (0.12.1)\n",
            "Requirement already satisfied: fonttools>=4.22.0 in c:\\users\\minso\\appdata\\local\\programs\\python\\python312\\lib\\site-packages (from matplotlib) (4.51.0)\n",
            "Requirement already satisfied: kiwisolver>=1.3.1 in c:\\users\\minso\\appdata\\local\\programs\\python\\python312\\lib\\site-packages (from matplotlib) (1.4.5)\n",
            "Requirement already satisfied: numpy>=1.21 in c:\\users\\minso\\appdata\\local\\programs\\python\\python312\\lib\\site-packages (from matplotlib) (1.26.4)\n",
            "Requirement already satisfied: packaging>=20.0 in c:\\users\\minso\\appdata\\roaming\\python\\python312\\site-packages (from matplotlib) (24.0)\n",
            "Requirement already satisfied: pillow>=8 in c:\\users\\minso\\appdata\\local\\programs\\python\\python312\\lib\\site-packages (from matplotlib) (10.3.0)\n",
            "Requirement already satisfied: pyparsing>=2.3.1 in c:\\users\\minso\\appdata\\local\\programs\\python\\python312\\lib\\site-packages (from matplotlib) (3.1.2)\n",
            "Requirement already satisfied: python-dateutil>=2.7 in c:\\users\\minso\\appdata\\roaming\\python\\python312\\site-packages (from matplotlib) (2.9.0.post0)\n",
            "Requirement already satisfied: six>=1.5 in c:\\users\\minso\\appdata\\roaming\\python\\python312\\site-packages (from python-dateutil>=2.7->matplotlib) (1.16.0)\n"
          ]
        }
      ],
      "source": [
        "!pip install scikit-learn\n",
        "!pip install tensorflow\n",
        "!pip install pandas\n",
        "!pip install keras\n",
        "!pip install matplotlib"
      ]
    },
    {
      "cell_type": "code",
      "execution_count": 155,
      "metadata": {},
      "outputs": [],
      "source": [
        "from sklearn.model_selection import train_test_split\n",
        "from sklearn.preprocessing import MinMaxScaler\n",
        "from tensorflow.keras.models import Sequential\n",
        "from tensorflow.keras.layers import Dense\n",
        "from tensorflow.keras.optimizers import Adam\n",
        "from tensorflow.keras.layers import BatchNormalization\n",
        "from sklearn.metrics import classification_report, accuracy_score"
      ]
    },
    {
      "cell_type": "code",
      "execution_count": 156,
      "metadata": {
        "id": "DGmvY35ZnlUI"
      },
      "outputs": [],
      "source": [
        "import pandas as pd\n",
        "\n",
        "df = pd.read_csv('training_data.csv')"
      ]
    },
    {
      "cell_type": "code",
      "execution_count": 157,
      "metadata": {
        "id": "Odk1C8Nfnmu1"
      },
      "outputs": [],
      "source": [
        "\n",
        "X = df.drop('State', axis=1)\n",
        "y = df['State']"
      ]
    },
    {
      "cell_type": "code",
      "execution_count": 158,
      "metadata": {
        "id": "m-KJf8KpnoGH"
      },
      "outputs": [],
      "source": [
        "scaler = MinMaxScaler()\n",
        "X_scaled = scaler.fit_transform(X)"
      ]
    },
    {
      "cell_type": "code",
      "execution_count": 159,
      "metadata": {
        "id": "aj1Z2xMZnp7H"
      },
      "outputs": [],
      "source": [
        "X_train, X_test, y_train, y_test = train_test_split(X_scaled, y, test_size=0.2, random_state=42)"
      ]
    },
    {
      "cell_type": "code",
      "execution_count": 160,
      "metadata": {
        "id": "oxVxJaRGns5T"
      },
      "outputs": [
        {
          "name": "stderr",
          "output_type": "stream",
          "text": [
            "c:\\Users\\minso\\AppData\\Local\\Programs\\Python\\Python312\\Lib\\site-packages\\keras\\src\\layers\\core\\dense.py:88: UserWarning: Do not pass an `input_shape`/`input_dim` argument to a layer. When using Sequential models, prefer using an `Input(shape)` object as the first layer in the model instead.\n",
            "  super().__init__(activity_regularizer=activity_regularizer, **kwargs)\n"
          ]
        }
      ],
      "source": [
        "# Modify the model architecture\n",
        "def build_model(input_shape):\n",
        "    model = Sequential([\n",
        "        Dense(64, activation='relu', input_shape=(input_shape,)),\n",
        "        BatchNormalization(),  # Add batch normalization layer\n",
        "        Dropout(0.3),\n",
        "        Dense(32, activation='relu'),\n",
        "        BatchNormalization(),\n",
        "        Dropout(0.3),\n",
        "        Dense(1, activation='sigmoid')\n",
        "    ])\n",
        "    model.compile(optimizer=Adam(learning_rate=0.001), loss='binary_crossentropy', metrics=['accuracy'])\n",
        "    return model\n",
        "\n",
        "# Instantiate the model\n",
        "model = build_model(X_train_scaled.shape[1])"
      ]
    },
    {
      "cell_type": "code",
      "execution_count": 161,
      "metadata": {
        "colab": {
          "base_uri": "https://localhost:8080/"
        },
        "id": "tf6MJczRnucI",
        "outputId": "d72544fe-c8f1-4c90-c77b-691290725dc6"
      },
      "outputs": [
        {
          "name": "stdout",
          "output_type": "stream",
          "text": [
            "Epoch 1/100\n",
            "1/1 - 7s - 7s/step - accuracy: 0.2308 - loss: 1.3682\n",
            "Epoch 2/100\n",
            "1/1 - 0s - 43ms/step - accuracy: 0.2692 - loss: 1.2240\n",
            "Epoch 3/100\n",
            "1/1 - 0s - 45ms/step - accuracy: 0.2692 - loss: 1.4100\n",
            "Epoch 4/100\n",
            "1/1 - 0s - 36ms/step - accuracy: 0.4615 - loss: 1.1394\n",
            "Epoch 5/100\n",
            "1/1 - 0s - 38ms/step - accuracy: 0.3462 - loss: 1.2752\n",
            "Epoch 6/100\n",
            "1/1 - 0s - 45ms/step - accuracy: 0.3077 - loss: 1.1216\n",
            "Epoch 7/100\n",
            "1/1 - 0s - 41ms/step - accuracy: 0.4615 - loss: 1.0958\n",
            "Epoch 8/100\n",
            "1/1 - 0s - 41ms/step - accuracy: 0.3846 - loss: 0.8106\n",
            "Epoch 9/100\n",
            "1/1 - 0s - 42ms/step - accuracy: 0.6538 - loss: 0.7755\n",
            "Epoch 10/100\n",
            "1/1 - 0s - 45ms/step - accuracy: 0.4615 - loss: 0.8159\n",
            "Epoch 11/100\n",
            "1/1 - 0s - 38ms/step - accuracy: 0.6538 - loss: 0.5495\n",
            "Epoch 12/100\n",
            "1/1 - 0s - 39ms/step - accuracy: 0.6538 - loss: 0.5764\n",
            "Epoch 13/100\n",
            "1/1 - 0s - 42ms/step - accuracy: 0.6538 - loss: 0.6711\n",
            "Epoch 14/100\n",
            "1/1 - 0s - 38ms/step - accuracy: 0.7692 - loss: 0.6273\n",
            "Epoch 15/100\n",
            "1/1 - 0s - 39ms/step - accuracy: 0.6538 - loss: 0.7594\n",
            "Epoch 16/100\n",
            "1/1 - 0s - 46ms/step - accuracy: 0.7692 - loss: 0.5647\n",
            "Epoch 17/100\n",
            "1/1 - 0s - 56ms/step - accuracy: 0.8077 - loss: 0.5268\n",
            "Epoch 18/100\n",
            "1/1 - 0s - 36ms/step - accuracy: 0.8846 - loss: 0.4594\n",
            "Epoch 19/100\n",
            "1/1 - 0s - 36ms/step - accuracy: 0.6923 - loss: 0.5511\n",
            "Epoch 20/100\n",
            "1/1 - 0s - 37ms/step - accuracy: 0.8077 - loss: 0.4979\n",
            "Epoch 21/100\n",
            "1/1 - 0s - 38ms/step - accuracy: 0.9231 - loss: 0.4124\n",
            "Epoch 22/100\n",
            "1/1 - 0s - 35ms/step - accuracy: 0.8077 - loss: 0.4680\n",
            "Epoch 23/100\n",
            "1/1 - 0s - 41ms/step - accuracy: 0.8462 - loss: 0.3559\n",
            "Epoch 24/100\n",
            "1/1 - 0s - 41ms/step - accuracy: 0.7692 - loss: 0.3906\n",
            "Epoch 25/100\n",
            "1/1 - 0s - 41ms/step - accuracy: 0.9231 - loss: 0.3336\n",
            "Epoch 26/100\n",
            "1/1 - 0s - 39ms/step - accuracy: 0.8846 - loss: 0.4182\n",
            "Epoch 27/100\n",
            "1/1 - 0s - 34ms/step - accuracy: 0.7692 - loss: 0.4718\n",
            "Epoch 28/100\n",
            "1/1 - 0s - 38ms/step - accuracy: 0.8462 - loss: 0.3768\n",
            "Epoch 29/100\n",
            "1/1 - 0s - 40ms/step - accuracy: 0.8462 - loss: 0.4176\n",
            "Epoch 30/100\n",
            "1/1 - 0s - 42ms/step - accuracy: 0.8462 - loss: 0.3664\n",
            "Epoch 31/100\n",
            "1/1 - 0s - 37ms/step - accuracy: 0.9231 - loss: 0.3255\n",
            "Epoch 32/100\n",
            "1/1 - 0s - 38ms/step - accuracy: 0.8846 - loss: 0.3346\n",
            "Epoch 33/100\n",
            "1/1 - 0s - 44ms/step - accuracy: 0.8846 - loss: 0.2790\n",
            "Epoch 34/100\n",
            "1/1 - 0s - 40ms/step - accuracy: 0.8462 - loss: 0.3522\n",
            "Epoch 35/100\n",
            "1/1 - 0s - 38ms/step - accuracy: 0.7308 - loss: 0.4512\n",
            "Epoch 36/100\n",
            "1/1 - 0s - 34ms/step - accuracy: 0.9231 - loss: 0.2594\n",
            "Epoch 37/100\n",
            "1/1 - 0s - 49ms/step - accuracy: 0.8846 - loss: 0.3773\n",
            "Epoch 38/100\n",
            "1/1 - 0s - 41ms/step - accuracy: 0.8846 - loss: 0.3526\n",
            "Epoch 39/100\n",
            "1/1 - 0s - 43ms/step - accuracy: 0.8077 - loss: 0.3983\n",
            "Epoch 40/100\n",
            "1/1 - 0s - 40ms/step - accuracy: 0.8462 - loss: 0.4253\n",
            "Epoch 41/100\n",
            "1/1 - 0s - 38ms/step - accuracy: 0.8846 - loss: 0.4245\n",
            "Epoch 42/100\n",
            "1/1 - 0s - 38ms/step - accuracy: 0.9615 - loss: 0.1774\n",
            "Epoch 43/100\n",
            "1/1 - 0s - 38ms/step - accuracy: 0.8462 - loss: 0.4590\n",
            "Epoch 44/100\n",
            "1/1 - 0s - 38ms/step - accuracy: 0.8846 - loss: 0.2840\n",
            "Epoch 45/100\n",
            "1/1 - 0s - 38ms/step - accuracy: 0.9231 - loss: 0.2442\n",
            "Epoch 46/100\n",
            "1/1 - 0s - 39ms/step - accuracy: 0.8462 - loss: 0.3605\n",
            "Epoch 47/100\n",
            "1/1 - 0s - 44ms/step - accuracy: 0.9615 - loss: 0.2382\n",
            "Epoch 48/100\n",
            "1/1 - 0s - 46ms/step - accuracy: 0.8462 - loss: 0.3122\n",
            "Epoch 49/100\n",
            "1/1 - 0s - 39ms/step - accuracy: 0.9615 - loss: 0.2883\n",
            "Epoch 50/100\n",
            "1/1 - 0s - 38ms/step - accuracy: 0.8462 - loss: 0.3467\n",
            "Epoch 51/100\n",
            "1/1 - 0s - 39ms/step - accuracy: 0.8077 - loss: 0.3560\n",
            "Epoch 52/100\n",
            "1/1 - 0s - 36ms/step - accuracy: 0.9231 - loss: 0.3010\n",
            "Epoch 53/100\n",
            "1/1 - 0s - 40ms/step - accuracy: 0.9231 - loss: 0.3448\n",
            "Epoch 54/100\n",
            "1/1 - 0s - 43ms/step - accuracy: 0.9231 - loss: 0.2987\n",
            "Epoch 55/100\n",
            "1/1 - 0s - 38ms/step - accuracy: 0.8846 - loss: 0.3791\n",
            "Epoch 56/100\n",
            "1/1 - 0s - 35ms/step - accuracy: 0.8846 - loss: 0.3921\n",
            "Epoch 57/100\n",
            "1/1 - 0s - 38ms/step - accuracy: 0.8462 - loss: 0.3345\n",
            "Epoch 58/100\n",
            "1/1 - 0s - 48ms/step - accuracy: 0.9231 - loss: 0.1882\n",
            "Epoch 59/100\n",
            "1/1 - 0s - 52ms/step - accuracy: 0.8846 - loss: 0.2560\n",
            "Epoch 60/100\n",
            "1/1 - 0s - 43ms/step - accuracy: 0.9615 - loss: 0.2457\n",
            "Epoch 61/100\n",
            "1/1 - 0s - 40ms/step - accuracy: 0.8462 - loss: 0.3561\n",
            "Epoch 62/100\n",
            "1/1 - 0s - 41ms/step - accuracy: 0.9231 - loss: 0.2663\n",
            "Epoch 63/100\n",
            "1/1 - 0s - 38ms/step - accuracy: 0.8462 - loss: 0.3810\n",
            "Epoch 64/100\n",
            "1/1 - 0s - 37ms/step - accuracy: 0.8846 - loss: 0.2638\n",
            "Epoch 65/100\n",
            "1/1 - 0s - 42ms/step - accuracy: 0.9231 - loss: 0.3137\n",
            "Epoch 66/100\n",
            "1/1 - 0s - 36ms/step - accuracy: 0.9231 - loss: 0.3478\n",
            "Epoch 67/100\n",
            "1/1 - 0s - 36ms/step - accuracy: 0.8462 - loss: 0.2785\n",
            "Epoch 68/100\n",
            "1/1 - 0s - 33ms/step - accuracy: 0.9231 - loss: 0.1515\n",
            "Epoch 69/100\n",
            "1/1 - 0s - 32ms/step - accuracy: 0.9615 - loss: 0.3094\n",
            "Epoch 70/100\n",
            "1/1 - 0s - 39ms/step - accuracy: 0.8462 - loss: 0.3580\n",
            "Epoch 71/100\n",
            "1/1 - 0s - 58ms/step - accuracy: 0.9231 - loss: 0.2839\n",
            "Epoch 72/100\n",
            "1/1 - 0s - 38ms/step - accuracy: 0.8846 - loss: 0.3490\n",
            "Epoch 73/100\n",
            "1/1 - 0s - 69ms/step - accuracy: 0.9231 - loss: 0.3265\n",
            "Epoch 74/100\n",
            "1/1 - 0s - 36ms/step - accuracy: 0.9615 - loss: 0.2224\n",
            "Epoch 75/100\n",
            "1/1 - 0s - 36ms/step - accuracy: 0.9615 - loss: 0.2663\n",
            "Epoch 76/100\n",
            "1/1 - 0s - 36ms/step - accuracy: 0.8846 - loss: 0.2958\n",
            "Epoch 77/100\n",
            "1/1 - 0s - 40ms/step - accuracy: 0.8846 - loss: 0.2348\n",
            "Epoch 78/100\n",
            "1/1 - 0s - 38ms/step - accuracy: 0.9615 - loss: 0.2770\n",
            "Epoch 79/100\n",
            "1/1 - 0s - 66ms/step - accuracy: 0.9231 - loss: 0.3264\n",
            "Epoch 80/100\n",
            "1/1 - 0s - 33ms/step - accuracy: 0.9231 - loss: 0.2382\n",
            "Epoch 81/100\n",
            "1/1 - 0s - 34ms/step - accuracy: 0.8846 - loss: 0.3538\n",
            "Epoch 82/100\n",
            "1/1 - 0s - 33ms/step - accuracy: 0.8462 - loss: 0.3480\n",
            "Epoch 83/100\n",
            "1/1 - 0s - 35ms/step - accuracy: 0.8846 - loss: 0.3529\n",
            "Epoch 84/100\n",
            "1/1 - 0s - 32ms/step - accuracy: 0.8846 - loss: 0.2268\n",
            "Epoch 85/100\n",
            "1/1 - 0s - 34ms/step - accuracy: 0.9231 - loss: 0.2502\n",
            "Epoch 86/100\n",
            "1/1 - 0s - 34ms/step - accuracy: 0.9231 - loss: 0.1880\n",
            "Epoch 87/100\n",
            "1/1 - 0s - 36ms/step - accuracy: 0.9231 - loss: 0.2822\n",
            "Epoch 88/100\n",
            "1/1 - 0s - 45ms/step - accuracy: 0.9231 - loss: 0.2649\n",
            "Epoch 89/100\n",
            "1/1 - 0s - 32ms/step - accuracy: 0.9231 - loss: 0.2015\n",
            "Epoch 90/100\n",
            "1/1 - 0s - 36ms/step - accuracy: 0.9615 - loss: 0.2615\n",
            "Epoch 91/100\n",
            "1/1 - 0s - 34ms/step - accuracy: 0.9231 - loss: 0.2124\n",
            "Epoch 92/100\n",
            "1/1 - 0s - 36ms/step - accuracy: 0.8846 - loss: 0.2967\n",
            "Epoch 93/100\n",
            "1/1 - 0s - 36ms/step - accuracy: 0.8846 - loss: 0.2757\n",
            "Epoch 94/100\n",
            "1/1 - 0s - 45ms/step - accuracy: 0.9231 - loss: 0.2765\n",
            "Epoch 95/100\n",
            "1/1 - 0s - 33ms/step - accuracy: 0.8846 - loss: 0.3304\n",
            "Epoch 96/100\n",
            "1/1 - 0s - 33ms/step - accuracy: 0.9231 - loss: 0.2624\n",
            "Epoch 97/100\n",
            "1/1 - 0s - 37ms/step - accuracy: 0.9231 - loss: 0.3196\n",
            "Epoch 98/100\n",
            "1/1 - 0s - 36ms/step - accuracy: 0.8846 - loss: 0.2522\n",
            "Epoch 99/100\n",
            "1/1 - 0s - 32ms/step - accuracy: 0.9231 - loss: 0.2074\n",
            "Epoch 100/100\n",
            "1/1 - 0s - 35ms/step - accuracy: 0.8462 - loss: 0.3137\n"
          ]
        },
        {
          "data": {
            "text/plain": [
              "<keras.src.callbacks.history.History at 0x20431c51f70>"
            ]
          },
          "execution_count": 161,
          "metadata": {},
          "output_type": "execute_result"
        }
      ],
      "source": [
        "model.fit(X_train, y_train, epochs=100, batch_size=32, verbose=2)"
      ]
    },
    {
      "cell_type": "code",
      "execution_count": 162,
      "metadata": {
        "colab": {
          "base_uri": "https://localhost:8080/"
        },
        "id": "Bmr5v2UEnv20",
        "outputId": "33d1017f-7b8d-4b5e-badf-b3fd34ed8bfa"
      },
      "outputs": [
        {
          "name": "stdout",
          "output_type": "stream",
          "text": [
            "Test Loss: 0.3924, Test Accuracy: 0.8571\n"
          ]
        }
      ],
      "source": [
        "# Evaluate the model on the testing data\n",
        "loss, accuracy = model.evaluate(X_test_scaled, y_test, verbose=0)\n",
        "print(f'Test Loss: {loss:.4f}, Test Accuracy: {accuracy:.4f}')"
      ]
    },
    {
      "cell_type": "code",
      "execution_count": 163,
      "metadata": {
        "colab": {
          "base_uri": "https://localhost:8080/"
        },
        "id": "6uJEZgRlnxN1",
        "outputId": "4c900a3a-b1d5-4d44-9451-4444f7170732"
      },
      "outputs": [
        {
          "name": "stdout",
          "output_type": "stream",
          "text": [
            "WARNING:tensorflow:5 out of the last 5 calls to <function TensorFlowTrainer.make_predict_function.<locals>.one_step_on_data_distributed at 0x00000204292D31A0> triggered tf.function retracing. Tracing is expensive and the excessive number of tracings could be due to (1) creating @tf.function repeatedly in a loop, (2) passing tensors with different shapes, (3) passing Python objects instead of tensors. For (1), please define your @tf.function outside of the loop. For (2), @tf.function has reduce_retracing=True option that can avoid unnecessary retracing. For (3), please refer to https://www.tensorflow.org/guide/function#controlling_retracing and https://www.tensorflow.org/api_docs/python/tf/function for  more details.\n",
            "\u001b[1m1/1\u001b[0m \u001b[32m━━━━━━━━━━━━━━━━━━━━\u001b[0m\u001b[37m\u001b[0m \u001b[1m0s\u001b[0m 312ms/step\n"
          ]
        }
      ],
      "source": [
        "predictions = model.predict(X_test)\n",
        "predictions = [1 if pred > 0.5 else 0 for pred in predictions]"
      ]
    },
    {
      "cell_type": "code",
      "execution_count": 164,
      "metadata": {
        "colab": {
          "base_uri": "https://localhost:8080/"
        },
        "id": "5-PpEkFDnyu7",
        "outputId": "eb6726e3-6f81-47cd-f775-3209bd0f7943"
      },
      "outputs": [
        {
          "name": "stdout",
          "output_type": "stream",
          "text": [
            "Accuracy: 0.8571\n"
          ]
        }
      ],
      "source": [
        "print(f'Accuracy: {accuracy_score(y_test, predictions):.4f}')"
      ]
    },
    {
      "cell_type": "code",
      "execution_count": 165,
      "metadata": {
        "colab": {
          "base_uri": "https://localhost:8080/"
        },
        "id": "bO6ooyH_m6DJ",
        "outputId": "0ae0f3b0-8e20-4146-a598-0161c61b26d8"
      },
      "outputs": [
        {
          "name": "stdout",
          "output_type": "stream",
          "text": [
            "              precision    recall  f1-score   support\n",
            "\n",
            "           0       0.00      0.00      0.00         1\n",
            "           1       0.86      1.00      0.92         6\n",
            "\n",
            "    accuracy                           0.86         7\n",
            "   macro avg       0.43      0.50      0.46         7\n",
            "weighted avg       0.73      0.86      0.79         7\n",
            "\n"
          ]
        },
        {
          "name": "stderr",
          "output_type": "stream",
          "text": [
            "c:\\Users\\minso\\AppData\\Local\\Programs\\Python\\Python312\\Lib\\site-packages\\sklearn\\metrics\\_classification.py:1509: UndefinedMetricWarning: Precision is ill-defined and being set to 0.0 in labels with no predicted samples. Use `zero_division` parameter to control this behavior.\n",
            "  _warn_prf(average, modifier, f\"{metric.capitalize()} is\", len(result))\n",
            "c:\\Users\\minso\\AppData\\Local\\Programs\\Python\\Python312\\Lib\\site-packages\\sklearn\\metrics\\_classification.py:1509: UndefinedMetricWarning: Precision is ill-defined and being set to 0.0 in labels with no predicted samples. Use `zero_division` parameter to control this behavior.\n",
            "  _warn_prf(average, modifier, f\"{metric.capitalize()} is\", len(result))\n",
            "c:\\Users\\minso\\AppData\\Local\\Programs\\Python\\Python312\\Lib\\site-packages\\sklearn\\metrics\\_classification.py:1509: UndefinedMetricWarning: Precision is ill-defined and being set to 0.0 in labels with no predicted samples. Use `zero_division` parameter to control this behavior.\n",
            "  _warn_prf(average, modifier, f\"{metric.capitalize()} is\", len(result))\n"
          ]
        }
      ],
      "source": [
        "print(classification_report(y_test, predictions))\n"
      ]
    },
    {
      "cell_type": "code",
      "execution_count": 167,
      "metadata": {},
      "outputs": [
        {
          "name": "stderr",
          "output_type": "stream",
          "text": [
            "c:\\Users\\minso\\AppData\\Local\\Programs\\Python\\Python312\\Lib\\site-packages\\keras\\src\\layers\\core\\dense.py:88: UserWarning: Do not pass an `input_shape`/`input_dim` argument to a layer. When using Sequential models, prefer using an `Input(shape)` object as the first layer in the model instead.\n",
            "  super().__init__(activity_regularizer=activity_regularizer, **kwargs)\n"
          ]
        },
        {
          "name": "stdout",
          "output_type": "stream",
          "text": [
            "Test Loss: 2.8321, Test Accuracy: 0.8571\n"
          ]
        },
        {
          "data": {
            "image/png": "[encoded data removed]",
            "text/plain": [
              "<Figure size 640x480 with 1 Axes>"
            ]
          },
          "metadata": {},
          "output_type": "display_data"
        }
      ],
      "source": [
        "import numpy as np\n",
        "import matplotlib.pyplot as plt\n",
        "import pandas as pd\n",
        "from sklearn.model_selection import train_test_split\n",
        "from sklearn.preprocessing import MinMaxScaler\n",
        "from tensorflow.keras.models import Sequential\n",
        "from tensorflow.keras.layers import Dense, Dropout\n",
        "from tensorflow.keras.optimizers import Adam\n",
        "from tensorflow.keras import regularizers\n",
        "\n",
        "# Load data\n",
        "df = pd.read_csv('training_data.csv')\n",
        "X = df.drop('State', axis=1)\n",
        "y = df['State']\n",
        "\n",
        "# Split data into training and testing sets\n",
        "X_train, X_test, y_train, y_test = train_test_split(X, y, test_size=0.2, random_state=42)\n",
        "\n",
        "# Scale features\n",
        "scaler = MinMaxScaler()\n",
        "X_train_scaled = scaler.fit_transform(X_train)\n",
        "X_test_scaled = scaler.transform(X_test)\n",
        "\n",
        "# Define a more complex neural network model\n",
        "def build_model(input_shape):\n",
        "    model = Sequential([\n",
        "        Dense(256, activation='relu', kernel_regularizer=regularizers.l2(0.01), input_shape=(input_shape,)),\n",
        "        Dropout(0.4),  # Adjusted dropout rate\n",
        "        Dense(128, activation='relu', kernel_regularizer=regularizers.l2(0.01)),\n",
        "        Dropout(0.4),\n",
        "        Dense(64, activation='relu', kernel_regularizer=regularizers.l2(0.01)),\n",
        "        Dropout(0.4),\n",
        "        Dense(1, activation='sigmoid')\n",
        "    ])\n",
        "    model.compile(optimizer=Adam(learning_rate=0.0001), loss='binary_crossentropy', metrics=['accuracy'])\n",
        "    return model\n",
        "\n",
        "# Instantiate the model\n",
        "model = build_model(X_train_scaled.shape[1])\n",
        "\n",
        "# Train the model with early stopping to prevent overfitting\n",
        "history = model.fit(X_train_scaled, y_train, epochs=100, batch_size=32, validation_split=0.2, verbose=0)\n",
        "\n",
        "# Evaluate the model on the testing data\n",
        "loss, accuracy = model.evaluate(X_test_scaled, y_test, verbose=0)\n",
        "print(f'Test Loss: {loss:.4f}, Test Accuracy: {accuracy:.4f}')\n",
        "\n",
        "# Plot training and validation curves\n",
        "plt.plot(history.history['accuracy'], label='Training Accuracy')\n",
        "plt.plot(history.history['val_accuracy'], label='Validation Accuracy')\n",
        "plt.xlabel('Epochs')\n",
        "plt.ylabel('Accuracy')\n",
        "plt.title('Training and Validation Accuracy')\n",
        "plt.legend()\n",
        "plt.show()"
      ]
    }
  ],
  "metadata": {
    "colab": {
      "provenance": []
    },
    "kernelspec": {
      "display_name": "Python 3",
      "name": "python3"
    },
    "language_info": {
      "codemirror_mode": {
        "name": "ipython",
        "version": 3
      },
      "file_extension": ".py",
      "mimetype": "text/x-python",
      "name": "python",
      "nbconvert_exporter": "python",
      "pygments_lexer": "ipython3",
      "version": "3.12.0"
    }
  },
  "nbformat": 4,
  "nbformat_minor": 0
}
